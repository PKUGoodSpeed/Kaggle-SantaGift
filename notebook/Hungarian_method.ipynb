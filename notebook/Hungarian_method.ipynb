{
 "cells": [
  {
   "cell_type": "code",
   "execution_count": 6,
   "metadata": {
    "collapsed": true
   },
   "outputs": [],
   "source": [
    "import os\n",
    "import pandas as pd\n",
    "import numpy as np\n",
    "import math\n",
    "from scipy.optimize import linear_sum_assignment\n",
    "import datetime as dt\n",
    "from collections import defaultdict, Counter\n",
    "\n",
    "## Visualization\n",
    "import matplotlib.pyplot as plt\n",
    "import seaborn as sns"
   ]
  },
  {
   "cell_type": "markdown",
   "metadata": {
    "collapsed": true
   },
   "source": [
    "###### Some constants"
   ]
  },
  {
   "cell_type": "code",
   "execution_count": 7,
   "metadata": {
    "collapsed": true
   },
   "outputs": [],
   "source": [
    "N_CHILDREN = 1000000\n",
    "N_GIFT_TYPE = 1000\n",
    "N_GIFT_QUANTITY = 1000\n",
    "N_GIFT_PREF = 1000\n",
    "N_CHILD_PREF = 100\n",
    "TRIPLETS = 5001\n",
    "TWINS = 45001"
   ]
  },
  {
   "cell_type": "markdown",
   "metadata": {},
   "source": [
    "###### Load data"
   ]
  },
  {
   "cell_type": "code",
   "execution_count": 8,
   "metadata": {},
   "outputs": [
    {
     "name": "stdout",
     "output_type": "stream",
     "text": [
      "(1000000, 100)\n",
      "(1000, 1000)\n"
     ]
    }
   ],
   "source": [
    "CHILD_PREF = pd.read_csv('../input/child_wishlist_v2.csv', header=None).drop(0, 1).values\n",
    "GIFT_PREF = pd.read_csv('../input/gift_goodkids_v2.csv', header=None).drop(0, 1).values\n",
    "print CHILD_PREF.shape\n",
    "print GIFT_PREF.shape"
   ]
  },
  {
   "cell_type": "markdown",
   "metadata": {},
   "source": [
    "###### To show ProgressBar"
   ]
  },
  {
   "cell_type": "code",
   "execution_count": 9,
   "metadata": {
    "collapsed": true
   },
   "outputs": [],
   "source": [
    "import sys\n",
    "sys.path.append('../src/')\n",
    "from progress import ProgressBar\n",
    "pbar = ProgressBar()"
   ]
  },
  {
   "cell_type": "markdown",
   "metadata": {},
   "source": [
    "###### Creating dicts to hash happiness"
   ]
  },
  {
   "cell_type": "code",
   "execution_count": 10,
   "metadata": {},
   "outputs": [
    {
     "name": "stdout",
     "output_type": "stream",
     "text": [
      "[                                                  ==================================================\n",
      "[                                                  ==================================================\n",
      "CPU times: user 63.2 ms, sys: 7.03 ms, total: 70.2 ms\n",
      "Wall time: 72.7 ms\n",
      "[0 0 0 0 0 0 0 0 0 0 0 0 0 0 0 0 0 0 0 0]\n"
     ]
    }
   ],
   "source": [
    "GIFT_HAPPINESS = {}\n",
    "pbar.setBar(N_GIFT_TYPE)\n",
    "for g in range(N_GIFT_TYPE):\n",
    "    pbar.show(g)\n",
    "    GIFT_HAPPINESS[g] = defaultdict(lambda: -1. / (2 * N_GIFT_PREF))\n",
    "    for i, c in enumerate(GIFT_PREF[g]):\n",
    "        GIFT_HAPPINESS[g][c] = 1. * (N_GIFT_PREF - i) / N_GIFT_PREF\n",
    "\n",
    "CHILD_HAPPINESS = {}\n",
    "pbar.setBar(N_CHILDREN)\n",
    "for c in range(N_CHILDREN):\n",
    "    pbar.show(c)\n",
    "    CHILD_HAPPINESS[c] = defaultdict(lambda: -1. / (2 * N_CHILD_PREF))\n",
    "    for i, g in enumerate(CHILD_PREF[c]):\n",
    "        CHILD_HAPPINESS[c][g] = 1. * (N_CHILD_PREF - i) / N_CHILD_PREF\n",
    "\n",
    "%time GIFT_IDS = np.array([[g] * N_GIFT_QUANTITY for g in range(N_GIFT_TYPE)]).flatten()\n",
    "print(GIFT_IDS[:20])"
   ]
  },
  {
   "cell_type": "markdown",
   "metadata": {},
   "source": [
    "###### To compute normalized happiness"
   ]
  },
  {
   "cell_type": "code",
   "execution_count": 11,
   "metadata": {
    "collapsed": true
   },
   "outputs": [],
   "source": [
    "def my_avg_normalized_happiness(pred):\n",
    "    total_child_happiness = 0\n",
    "    total_gift_happiness = np.zeros(1000)\n",
    "    print \"COMPUTE NORMALIZED HAPPINESS:\"\n",
    "    pbar.setBar(len(pred))\n",
    "    for i, [c,g] in enumerate(pred):\n",
    "        pbar.show(i)\n",
    "        #c = pred[i][0]\n",
    "        #g = pred[i][1]\n",
    "        total_child_happiness += CHILD_HAPPINESS[c][g]\n",
    "        total_gift_happiness[g] += GIFT_HAPPINESS[g][c]\n",
    "    nch = total_child_happiness / N_CHILDREN\n",
    "    ngh = np.mean(total_gift_happiness) / 1000\n",
    "    print('normalized child happiness', nch)\n",
    "    print('normalized gift happiness', ngh)\n",
    "    return nch**3. + ngh**3., ngh*N_CHILDREN, nch*N_CHILDREN"
   ]
  },
  {
   "cell_type": "code",
   "execution_count": 12,
   "metadata": {
    "collapsed": true
   },
   "outputs": [],
   "source": [
    "### Define a new entropy term\n",
    "def entropy(gh, ch, g, c):\n",
    "    return 3.*gh*g*(g + gh) + g**3 + 3.*ch*c*(c + ch) + c**3\n",
    "### Optimize the total entropy\n",
    "def optimize_block(child_block, current_gift_ids, gh, ch):\n",
    "    gift_block = current_gift_ids[child_block]\n",
    "    C = np.zeros((BLOCK_SIZE, BLOCK_SIZE))\n",
    "    for i in range(BLOCK_SIZE):\n",
    "        c = child_block[i]\n",
    "        for j in range(BLOCK_SIZE):\n",
    "            g = GIFT_IDS[gift_block[j]]\n",
    "            C[i, j] = -1. * entropy(gh, ch, GIFT_HAPPINESS[g][c], CHILD_HAPPINESS[c][g])\n",
    "    row_ind, col_ind = linear_sum_assignment(C)\n",
    "    return (child_block[row_ind], gift_block[col_ind])"
   ]
  },
  {
   "cell_type": "markdown",
   "metadata": {},
   "source": [
    "###### Define Block dimenstions"
   ]
  },
  {
   "cell_type": "code",
   "execution_count": 13,
   "metadata": {},
   "outputs": [
    {
     "name": "stdout",
     "output_type": "stream",
     "text": [
      "Block size: 261, n_blocks 3659\n"
     ]
    }
   ],
   "source": [
    "BLOCK_SIZE = 261\n",
    "INITIAL_SUBMISSION = '../src/twtr.csv'\n",
    "N_BLOCKS = int((N_CHILDREN - TWINS + BLOCK_SIZE - 1) / BLOCK_SIZE)\n",
    "print('Block size: {}, n_blocks {}'.format(BLOCK_SIZE, N_BLOCKS))"
   ]
  },
  {
   "cell_type": "code",
   "execution_count": 14,
   "metadata": {},
   "outputs": [
    {
     "name": "stdout",
     "output_type": "stream",
     "text": [
      "COMPUTE NORMALIZED HAPPINESS:\n",
      "[                                                  ==================================================\n",
      "('normalized child happiness', 0.9659252349968284)\n",
      "('normalized gift happiness', 0.00081807500000001033)\n",
      "(0.90121941051243415, 818.07500000001028, 965925.2349968284)\n"
     ]
    }
   ],
   "source": [
    "subm = pd.read_csv(INITIAL_SUBMISSION)\n",
    "initial_anh, g, c = my_avg_normalized_happiness(subm[['ChildId', 'GiftId']].values.tolist())\n",
    "print(initial_anh, g, c)\n",
    "subm['gift_rank'] = subm.groupby('GiftId').rank() - 1\n",
    "subm['gift_id'] = subm['GiftId'] * 1000 + subm['gift_rank']\n",
    "subm['gift_id'] = subm['gift_id'].astype(np.int32)\n",
    "current_gift_ids = subm['gift_id'].values"
   ]
  },
  {
   "cell_type": "markdown",
   "metadata": {},
   "source": [
    "###### Doing optimization"
   ]
  },
  {
   "cell_type": "code",
   "execution_count": 15,
   "metadata": {},
   "outputs": [
    {
     "name": "stdout",
     "output_type": "stream",
     "text": [
      "Iteration #0\n",
      "[                                                  ==================================================\n",
      "COMPUTE NORMALIZED HAPPINESS:\n",
      "[                                                  ==================================================\n",
      "('normalized child happiness', 0.9659265699968284)\n",
      "('normalized gift happiness', 0.0008175605000000102)\n",
      "(0, 0.90122314722786245, 817.56050000001017, 965926.5699968283)\n",
      "\n",
      "\n",
      "\n",
      "[0 0 0 0 0 0 0 0 0 0 0 0 0 0 0 0 0 0 0 0]\n"
     ]
    }
   ],
   "source": [
    "# number of iteration = 20\n",
    "for i in range(1):\n",
    "    print \"Iteration #{0}\".format(str(i))\n",
    "    child_blocks = np.split(np.random.permutation(range(TWINS, N_CHILDREN)), N_BLOCKS)\n",
    "    pbar.setBar(200)\n",
    "    for j in range(200):\n",
    "        pbar.show(j)\n",
    "        child_block = child_blocks[j]\n",
    "        cids, gids = optimize_block(child_block, current_gift_ids=current_gift_ids, gh=g, ch=c)\n",
    "        current_gift_ids[cids] = gids\n",
    "    subm['GiftId'] = GIFT_IDS[current_gift_ids]\n",
    "    anh, g, c = my_avg_normalized_happiness(subm[['ChildId', 'GiftId']].values.tolist())\n",
    "    print(i, anh, g, c)\n",
    "    print \"\\n\\n\"\n",
    "print(GIFT_IDS[:20])"
   ]
  },
  {
   "cell_type": "code",
   "execution_count": 16,
   "metadata": {},
   "outputs": [
    {
     "data": {
      "text/html": [
       "<div>\n",
       "<table border=\"1\" class=\"dataframe\">\n",
       "  <thead>\n",
       "    <tr style=\"text-align: right;\">\n",
       "      <th></th>\n",
       "      <th>ChildId</th>\n",
       "      <th>GiftId</th>\n",
       "      <th>gift_rank</th>\n",
       "      <th>gift_id</th>\n",
       "    </tr>\n",
       "  </thead>\n",
       "  <tbody>\n",
       "    <tr>\n",
       "      <th>45001</th>\n",
       "      <td>45001</td>\n",
       "      <td>315</td>\n",
       "      <td>10.0</td>\n",
       "      <td>315010</td>\n",
       "    </tr>\n",
       "    <tr>\n",
       "      <th>45002</th>\n",
       "      <td>45002</td>\n",
       "      <td>183</td>\n",
       "      <td>17.0</td>\n",
       "      <td>183017</td>\n",
       "    </tr>\n",
       "    <tr>\n",
       "      <th>45003</th>\n",
       "      <td>45003</td>\n",
       "      <td>803</td>\n",
       "      <td>16.0</td>\n",
       "      <td>803016</td>\n",
       "    </tr>\n",
       "    <tr>\n",
       "      <th>45004</th>\n",
       "      <td>45004</td>\n",
       "      <td>927</td>\n",
       "      <td>85.0</td>\n",
       "      <td>927085</td>\n",
       "    </tr>\n",
       "    <tr>\n",
       "      <th>45005</th>\n",
       "      <td>45005</td>\n",
       "      <td>129</td>\n",
       "      <td>39.0</td>\n",
       "      <td>129039</td>\n",
       "    </tr>\n",
       "    <tr>\n",
       "      <th>45006</th>\n",
       "      <td>45006</td>\n",
       "      <td>590</td>\n",
       "      <td>34.0</td>\n",
       "      <td>590034</td>\n",
       "    </tr>\n",
       "    <tr>\n",
       "      <th>45007</th>\n",
       "      <td>45007</td>\n",
       "      <td>42</td>\n",
       "      <td>54.0</td>\n",
       "      <td>42054</td>\n",
       "    </tr>\n",
       "    <tr>\n",
       "      <th>45008</th>\n",
       "      <td>45008</td>\n",
       "      <td>911</td>\n",
       "      <td>28.0</td>\n",
       "      <td>911028</td>\n",
       "    </tr>\n",
       "    <tr>\n",
       "      <th>45009</th>\n",
       "      <td>45009</td>\n",
       "      <td>525</td>\n",
       "      <td>41.0</td>\n",
       "      <td>525041</td>\n",
       "    </tr>\n",
       "    <tr>\n",
       "      <th>45010</th>\n",
       "      <td>45010</td>\n",
       "      <td>273</td>\n",
       "      <td>56.0</td>\n",
       "      <td>273056</td>\n",
       "    </tr>\n",
       "  </tbody>\n",
       "</table>\n",
       "</div>"
      ],
      "text/plain": [
       "       ChildId  GiftId  gift_rank  gift_id\n",
       "45001    45001     315       10.0   315010\n",
       "45002    45002     183       17.0   183017\n",
       "45003    45003     803       16.0   803016\n",
       "45004    45004     927       85.0   927085\n",
       "45005    45005     129       39.0   129039\n",
       "45006    45006     590       34.0   590034\n",
       "45007    45007      42       54.0    42054\n",
       "45008    45008     911       28.0   911028\n",
       "45009    45009     525       41.0   525041\n",
       "45010    45010     273       56.0   273056"
      ]
     },
     "metadata": {},
     "output_type": "display_data"
    }
   ],
   "source": [
    "from IPython.display import display\n",
    "display(subm[45001: 45011])"
   ]
  },
  {
   "cell_type": "code",
   "execution_count": 23,
   "metadata": {},
   "outputs": [
    {
     "name": "stdout",
     "output_type": "stream",
     "text": [
      "[45001 45002 45003 45004 45005 45006 45007 45008 45009 45010 45011 45012\n",
      " 45013 45014 45015 45016 45017 45018 45019 45020 45021 45022 45023 45024\n",
      " 45025 45026 45027 45028 45029 45030 45031 45032 45033 45034 45035 45036\n",
      " 45037 45038 45039 45040 45041 45042 45043 45044 45045 45046 45047 45048\n",
      " 45049 45050 45051 45052 45053 45054 45055 45056 45057 45058 45059 45060\n",
      " 45061 45062 45063 45064 45065 45066 45067 45068 45069 45070 45071 45072\n",
      " 45073 45074 45075 45076 45077 45078 45079 45080 45081 45082 45083 45084\n",
      " 45085 45086 45087 45088 45089 45090 45091 45092 45093 45094 45095 45096\n",
      " 45097 45098 45099 45100]\n"
     ]
    }
   ],
   "source": [
    "child_block = np.arange(45001, 45101)\n",
    "print child_block"
   ]
  },
  {
   "cell_type": "code",
   "execution_count": 24,
   "metadata": {},
   "outputs": [
    {
     "name": "stdout",
     "output_type": "stream",
     "text": [
      "[315010 183017 803016 927085 129039 590034  42054 911028 525041 273056\n",
      " 848069 779018 791055 619090 160034 575012  49023 883029 893073 586091\n",
      " 810020 192045 996028 851016 747024 648035 223022 108018 305014 274040\n",
      " 891020 542029 851017 222088 205030  38010 780010 535043  17079 372058\n",
      " 313029 189022 294069 600035 789046 458024 562012 192046  48023 683042\n",
      " 787020 919045 400034 775043 839029 574037 709078 857030 785028 109047\n",
      " 785029 704020 271029 639062 542030 439041  41082 532446 720027 969042\n",
      "  18032 656081  62016  87096 332024 886022 331015 703094 481024 770016\n",
      "  24022  39032 197016 728041 399022  73021 775044 502010  39033  39034\n",
      " 928016 111054 184038 139026 252025 413016 513069  31048 449078 164014]\n"
     ]
    }
   ],
   "source": [
    "gift_block = current_gift_ids[child_block]\n",
    "print gift_block"
   ]
  },
  {
   "cell_type": "code",
   "execution_count": 25,
   "metadata": {},
   "outputs": [
    {
     "name": "stdout",
     "output_type": "stream",
     "text": [
      "[315, 183, 803, 927, 129, 590, 42, 911, 525, 273, 848, 779, 791, 619, 160, 575, 49, 883, 893, 586, 810, 192, 996, 851, 747, 648, 223, 108, 305, 274, 891, 542, 851, 222, 205, 38, 780, 535, 17, 372, 313, 189, 294, 600, 789, 458, 562, 192, 48, 683, 787, 919, 400, 775, 839, 574, 709, 857, 785, 109, 785, 704, 271, 639, 542, 439, 41, 532, 720, 969, 18, 656, 62, 87, 332, 886, 331, 703, 481, 770, 24, 39, 197, 728, 399, 73, 775, 502, 39, 39, 928, 111, 184, 139, 252, 413, 513, 31, 449, 164]\n",
      "93\n"
     ]
    }
   ],
   "source": [
    "gidx = [GIFT_IDS[gift_block[j]] for j in range(100)]\n",
    "print gidx\n",
    "print len(set(gidx))"
   ]
  },
  {
   "cell_type": "code",
   "execution_count": 26,
   "metadata": {},
   "outputs": [
    {
     "name": "stdout",
     "output_type": "stream",
     "text": [
      "[315 183 803 927 129 590  42 911 525 273 848 779 791 619 160 575  49 883\n",
      " 893 586 810 192 996 851 747 648 223 108 305 274 891 542 851 222 205  38\n",
      " 780 535  17 372 313 189 294 600 789 458 562 192  48 683 787 919 400 775\n",
      " 839 574 709 857 785 109 785 704 271 639 542 439  41 532 720 969  18 656\n",
      "  62  87 332 886 331 703 481 770  24  39 197 728 399  73 775 502  39  39\n",
      " 928 111 184 139 252 413 513  31 449 164]\n"
     ]
    }
   ],
   "source": [
    "gidx1 = subm['GiftId'].values[child_block]\n",
    "print gidx1"
   ]
  },
  {
   "cell_type": "code",
   "execution_count": 27,
   "metadata": {},
   "outputs": [
    {
     "name": "stdout",
     "output_type": "stream",
     "text": [
      "[ True  True  True  True  True  True  True  True  True  True  True  True\n",
      "  True  True  True  True  True  True  True  True  True  True  True  True\n",
      "  True  True  True  True  True  True  True  True  True  True  True  True\n",
      "  True  True  True  True  True  True  True  True  True  True  True  True\n",
      "  True  True  True  True  True  True  True  True  True  True  True  True\n",
      "  True  True  True  True  True  True  True  True  True  True  True  True\n",
      "  True  True  True  True  True  True  True  True  True  True  True  True\n",
      "  True  True  True  True  True  True  True  True  True  True  True  True\n",
      "  True  True  True  True]\n"
     ]
    }
   ],
   "source": [
    "print gidx1 == np.array(gidx)"
   ]
  },
  {
   "cell_type": "code",
   "execution_count": 29,
   "metadata": {},
   "outputs": [
    {
     "name": "stdout",
     "output_type": "stream",
     "text": [
      "[ 0  1  2  3  4  5  6  7  8  9 10 11 12 13 14 15 16 17 18 19 20 21 22 23 24\n",
      " 25 26 27 28 29 30 31 32 33 34 35 36 37 38 39 40 41 42 43 44 45 46 47 48 49\n",
      " 50 51 52 53 54 55 56 57 58 59 60 61 62 63 64 65 66 67 68 69 70 71 72 73 74\n",
      " 75 76 77 78 79 80 81 82 83 84 85 86 87 88 89 90 91 92 93 94 95 96 97 98 99]\n",
      "[ 3 99  1  2  5  4  7  6  9  8 12 10 11 14 13 16 18 19 17 20 21 15 23 24 25\n",
      " 22 27 28 26 30 29 32 31 34 33 36 37 35 39 38 41 40 43 42 46 44 45 48 47 51\n",
      " 49 50 53 52 56 54 55 58 57 60 59 62 61 64 63 66 65 68 67 71 69 70 73 72 77\n",
      " 78 74 76 79 75 81 83 80 82 85 84 88 86 87 90 89 92 91 94 93 96 95 98 97  0]\n"
     ]
    }
   ],
   "source": [
    "C = np.zeros((100, 100))\n",
    "for i in range(100):\n",
    "    for j in range(100):\n",
    "        c = child_block[i]\n",
    "        g = gidx[j]\n",
    "        C[i, j] = (GIFT_HAPPINESS[g][c] + CHILD_HAPPINESS[c][g])\n",
    "row_ind, col_ind = linear_sum_assignment(C)\n",
    "print row_ind\n",
    "print col_ind"
   ]
  },
  {
   "cell_type": "code",
   "execution_count": 32,
   "metadata": {},
   "outputs": [
    {
     "name": "stdout",
     "output_type": "stream",
     "text": [
      "[45001 45002 45003 45004 45005 45006 45007 45008 45009 45010 45011 45012\n",
      " 45013 45014 45015 45016 45017 45018 45019 45020 45021 45022 45023 45024\n",
      " 45025 45026 45027 45028 45029 45030 45031 45032 45033 45034 45035 45036\n",
      " 45037 45038 45039 45040 45041 45042 45043 45044 45045 45046 45047 45048\n",
      " 45049 45050 45051 45052 45053 45054 45055 45056 45057 45058 45059 45060\n",
      " 45061 45062 45063 45064 45065 45066 45067 45068 45069 45070 45071 45072\n",
      " 45073 45074 45075 45076 45077 45078 45079 45080 45081 45082 45083 45084\n",
      " 45085 45086 45087 45088 45089 45090 45091 45092 45093 45094 45095 45096\n",
      " 45097 45098 45099 45100]\n",
      "[927 164 183 803 590 129 911  42 273 525 791 848 779 160 619  49 893 586\n",
      " 883 810 192 575 851 747 648 996 108 305 223 891 274 851 542 205 222 780\n",
      " 535  38 372  17 189 313 600 294 562 789 458  48 192 919 683 787 775 400\n",
      " 709 839 574 785 857 785 109 271 704 542 639  41 439 720 532 656 969  18\n",
      "  87  62 703 481 332 331 770 886  39 728  24 197  73 399  39 775 502 928\n",
      "  39 184 111 252 139 513 413 449  31 315]\n"
     ]
    }
   ],
   "source": [
    "x = child_block[row_ind]\n",
    "y = gidx1[col_ind]\n",
    "print x\n",
    "print y"
   ]
  },
  {
   "cell_type": "code",
   "execution_count": null,
   "metadata": {
    "collapsed": true
   },
   "outputs": [],
   "source": []
  }
 ],
 "metadata": {
  "kernelspec": {
   "display_name": "Python 2",
   "language": "python",
   "name": "python2"
  },
  "language_info": {
   "codemirror_mode": {
    "name": "ipython",
    "version": 2
   },
   "file_extension": ".py",
   "mimetype": "text/x-python",
   "name": "python",
   "nbconvert_exporter": "python",
   "pygments_lexer": "ipython2",
   "version": "2.7.13"
  }
 },
 "nbformat": 4,
 "nbformat_minor": 2
}
