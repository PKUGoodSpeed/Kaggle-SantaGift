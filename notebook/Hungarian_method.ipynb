{
 "cells": [
  {
   "cell_type": "code",
   "execution_count": 1,
   "metadata": {
    "collapsed": true
   },
   "outputs": [],
   "source": [
    "import os\n",
    "import pandas as pd\n",
    "import numpy as np\n",
    "import math\n",
    "from scipy.optimize import linear_sum_assignment\n",
    "import datetime as dt\n",
    "from collections import defaultdict, Counter\n",
    "\n",
    "## Visualization\n",
    "import matplotlib.pyplot as plt\n",
    "import seaborn as sns"
   ]
  },
  {
   "cell_type": "markdown",
   "metadata": {
    "collapsed": true
   },
   "source": [
    "###### Some constants"
   ]
  },
  {
   "cell_type": "code",
   "execution_count": 2,
   "metadata": {
    "collapsed": true
   },
   "outputs": [],
   "source": [
    "N_CHILDREN = 1000000\n",
    "N_GIFT_TYPE = 1000\n",
    "N_GIFT_QUANTITY = 1000\n",
    "N_GIFT_PREF = 1000\n",
    "N_CHILD_PREF = 100\n",
    "TRIPLETS = 5001\n",
    "TWINS = 45001"
   ]
  },
  {
   "cell_type": "markdown",
   "metadata": {},
   "source": [
    "###### Load data"
   ]
  },
  {
   "cell_type": "code",
   "execution_count": 3,
   "metadata": {},
   "outputs": [
    {
     "name": "stdout",
     "output_type": "stream",
     "text": [
      "(1000000, 100)\n",
      "(1000, 1000)\n"
     ]
    }
   ],
   "source": [
    "CHILD_PREF = pd.read_csv('../input/child_wishlist_v2.csv', header=None).drop(0, 1).values\n",
    "GIFT_PREF = pd.read_csv('../input/gift_goodkids_v2.csv', header=None).drop(0, 1).values\n",
    "print CHILD_PREF.shape\n",
    "print GIFT_PREF.shape"
   ]
  },
  {
   "cell_type": "markdown",
   "metadata": {},
   "source": [
    "###### To show ProgressBar"
   ]
  },
  {
   "cell_type": "code",
   "execution_count": 7,
   "metadata": {
    "collapsed": true
   },
   "outputs": [],
   "source": [
    "import sys\n",
    "sys.path.append('../src/')\n",
    "from progress import ProgressBar\n",
    "pbar = ProgressBar()"
   ]
  },
  {
   "cell_type": "markdown",
   "metadata": {},
   "source": [
    "###### Creating dicts to hash happiness"
   ]
  },
  {
   "cell_type": "code",
   "execution_count": 10,
   "metadata": {},
   "outputs": [
    {
     "name": "stdout",
     "output_type": "stream",
     "text": [
      "[                                                  ==================================================\n",
      "[                                                  ==================================================\n",
      "CPU times: user 69 ms, sys: 4.13 ms, total: 73.1 ms\n",
      "Wall time: 72.2 ms\n",
      "[0 0 0 0 0 0 0 0 0 0 0 0 0 0 0 0 0 0 0 0]\n"
     ]
    }
   ],
   "source": [
    "GIFT_HAPPINESS = {}\n",
    "pbar.setBar(N_GIFT_TYPE)\n",
    "for g in range(N_GIFT_TYPE):\n",
    "    pbar.show(g)\n",
    "    GIFT_HAPPINESS[g] = defaultdict(lambda: -1. / (2 * N_GIFT_PREF))\n",
    "    for i, c in enumerate(GIFT_PREF[g]):\n",
    "        GIFT_HAPPINESS[g][c] = 1. * (N_GIFT_PREF - i) / N_GIFT_PREF\n",
    "\n",
    "CHILD_HAPPINESS = {}\n",
    "pbar.setBar(N_CHILDREN)\n",
    "for c in range(N_CHILDREN):\n",
    "    pbar.show(c)\n",
    "    CHILD_HAPPINESS[c] = defaultdict(lambda: -1. / (2 * N_CHILD_PREF))\n",
    "    for i, g in enumerate(CHILD_PREF[c]):\n",
    "        CHILD_HAPPINESS[c][g] = 1. * (N_CHILD_PREF - i) / N_CHILD_PREF\n",
    "\n",
    "%time GIFT_IDS = np.array([[g] * N_GIFT_QUANTITY for g in range(N_GIFT_TYPE)]).flatten()\n",
    "print(GIFT_IDS[:20])"
   ]
  },
  {
   "cell_type": "markdown",
   "metadata": {},
   "source": [
    "###### To compute normalized happiness"
   ]
  },
  {
   "cell_type": "code",
   "execution_count": 32,
   "metadata": {
    "collapsed": true
   },
   "outputs": [],
   "source": [
    "def my_avg_normalized_happiness(pred):\n",
    "    total_child_happiness = 0\n",
    "    total_gift_happiness = np.zeros(1000)\n",
    "    print \"COMPUTE NORMALIZED HAPPINESS:\"\n",
    "    pbar.setBar(len(pred))\n",
    "    for i, [c,g] in enumerate(pred):\n",
    "        pbar.show(i)\n",
    "        #c = pred[i][0]\n",
    "        #g = pred[i][1]\n",
    "        total_child_happiness +=  -CHILD_HAPPINESS[c][g]\n",
    "        total_gift_happiness[g] += -GIFT_HAPPINESS[g][c]\n",
    "    nch = total_child_happiness / N_CHILDREN\n",
    "    ngh = np.mean(total_gift_happiness) / 1000\n",
    "    print('normalized child happiness', nch)\n",
    "    print('normalized gift happiness', ngh)\n",
    "    return nch**3. + ngh**3., ngh*N_CHILDREN, nch*N_CHILDREN"
   ]
  },
  {
   "cell_type": "code",
   "execution_count": 33,
   "metadata": {
    "collapsed": true
   },
   "outputs": [],
   "source": [
    "### Define a new entropy term\n",
    "def entropy(gh, ch, g, c):\n",
    "    return 3.*gh*g*(g + gh) + g**3 + 3.*ch*c*(c + ch) + c**3\n",
    "### Optimize the total entropy\n",
    "def optimize_block(child_block, current_gift_ids, gh, ch):\n",
    "    gift_block = current_gift_ids[child_block]\n",
    "    C = np.zeros((BLOCK_SIZE, BLOCK_SIZE))\n",
    "    for i in range(BLOCK_SIZE):\n",
    "        c = child_block[i]\n",
    "        for j in range(BLOCK_SIZE):\n",
    "            g = GIFT_IDS[gift_block[j]]\n",
    "            C[i, j] = -1. * entropy(gh, ch, GIFT_HAPPINESS[g][c], CHILD_HAPPINESS[c][g])\n",
    "    row_ind, col_ind = linear_sum_assignment(C)\n",
    "    return (child_block[row_ind], gift_block[col_ind])"
   ]
  },
  {
   "cell_type": "markdown",
   "metadata": {},
   "source": [
    "###### Define Block dimenstions"
   ]
  },
  {
   "cell_type": "code",
   "execution_count": 34,
   "metadata": {},
   "outputs": [
    {
     "name": "stdout",
     "output_type": "stream",
     "text": [
      "Block size: 261, n_blocks 3659\n"
     ]
    }
   ],
   "source": [
    "BLOCK_SIZE = 261\n",
    "INITIAL_SUBMISSION = '../src/twtr.csv'\n",
    "N_BLOCKS = int((N_CHILDREN - TWINS + BLOCK_SIZE - 1) / BLOCK_SIZE)\n",
    "print('Block size: {}, n_blocks {}'.format(BLOCK_SIZE, N_BLOCKS))"
   ]
  },
  {
   "cell_type": "code",
   "execution_count": 35,
   "metadata": {},
   "outputs": [
    {
     "name": "stdout",
     "output_type": "stream",
     "text": [
      "COMPUTE NORMALIZED HAPPINESS:\n",
      "[                                                  ==================================================\n",
      "('normalized child happiness', -0.9657394249968655)\n",
      "('normalized gift happiness', -0.00083065200000001027)\n",
      "(-0.90069942194483255, -830.65200000001028, -965739.4249968654)\n"
     ]
    }
   ],
   "source": [
    "subm = pd.read_csv(INITIAL_SUBMISSION)\n",
    "initial_anh, g, c = my_avg_normalized_happiness(subm[['ChildId', 'GiftId']].values.tolist())\n",
    "print(initial_anh, g, c)\n",
    "subm['gift_rank'] = subm.groupby('GiftId').rank() - 1\n",
    "subm['gift_id'] = subm['GiftId'] * 1000 + subm['gift_rank']\n",
    "subm['gift_id'] = subm['gift_id'].astype(np.int32)\n",
    "current_gift_ids = subm['gift_id'].values"
   ]
  },
  {
   "cell_type": "markdown",
   "metadata": {},
   "source": [
    "###### Doing optimization"
   ]
  },
  {
   "cell_type": "code",
   "execution_count": 36,
   "metadata": {},
   "outputs": [
    {
     "name": "stdout",
     "output_type": "stream",
     "text": [
      "Iteration #0\n",
      "[                                                  ==================================================\n",
      "COMPUTE NORMALIZED HAPPINESS:\n",
      "[                                                  ==================================================\n",
      "('normalized child happiness', -0.9657422449968643)\n",
      "('normalized gift happiness', -0.00082967450000001033)\n",
      "(0, -0.90070731220715727, -829.67450000001031, -965742.2449968643)\n",
      "\n",
      "\n",
      "\n",
      "Iteration #1\n",
      "[                                                  ==================================================\n",
      "COMPUTE NORMALIZED HAPPINESS:\n",
      "[                                                  ==================================================\n",
      "('normalized child happiness', -0.9657452649968624)\n",
      "('normalized gift happiness', -0.00082967450000001033)\n",
      "(1, -0.90071576211581472, -829.67450000001031, -965745.2649968624)\n",
      "\n",
      "\n",
      "\n",
      "Iteration #2\n",
      "[                                                  ==================================================\n",
      "COMPUTE NORMALIZED HAPPINESS:\n",
      "[                                                  ==================================================\n",
      "('normalized child happiness', -0.9657484699968615)\n",
      "('normalized gift happiness', -0.00082967450000001033)\n",
      "(2, -0.90072472970913331, -829.67450000001031, -965748.4699968615)\n",
      "\n",
      "\n",
      "\n",
      "Iteration #3\n",
      "[                                                  ==================================================\n"
     ]
    },
    {
     "ename": "KeyboardInterrupt",
     "evalue": "",
     "output_type": "error",
     "traceback": [
      "\u001b[0;31m---------------------------------------------------------------------------\u001b[0m",
      "\u001b[0;31mKeyboardInterrupt\u001b[0m                         Traceback (most recent call last)",
      "\u001b[0;32m<ipython-input-36-4840eb31984f>\u001b[0m in \u001b[0;36m<module>\u001b[0;34m()\u001b[0m\n\u001b[1;32m     10\u001b[0m         \u001b[0mcurrent_gift_ids\u001b[0m\u001b[0;34m[\u001b[0m\u001b[0mcids\u001b[0m\u001b[0;34m]\u001b[0m \u001b[0;34m=\u001b[0m \u001b[0mgids\u001b[0m\u001b[0;34m\u001b[0m\u001b[0m\n\u001b[1;32m     11\u001b[0m     \u001b[0msubm\u001b[0m\u001b[0;34m[\u001b[0m\u001b[0;34m'GiftId'\u001b[0m\u001b[0;34m]\u001b[0m \u001b[0;34m=\u001b[0m \u001b[0mGIFT_IDS\u001b[0m\u001b[0;34m[\u001b[0m\u001b[0mcurrent_gift_ids\u001b[0m\u001b[0;34m]\u001b[0m\u001b[0;34m\u001b[0m\u001b[0m\n\u001b[0;32m---> 12\u001b[0;31m     \u001b[0manh\u001b[0m\u001b[0;34m,\u001b[0m \u001b[0mg\u001b[0m\u001b[0;34m,\u001b[0m \u001b[0mc\u001b[0m \u001b[0;34m=\u001b[0m \u001b[0mmy_avg_normalized_happiness\u001b[0m\u001b[0;34m(\u001b[0m\u001b[0msubm\u001b[0m\u001b[0;34m[\u001b[0m\u001b[0;34m[\u001b[0m\u001b[0;34m'ChildId'\u001b[0m\u001b[0;34m,\u001b[0m \u001b[0;34m'GiftId'\u001b[0m\u001b[0;34m]\u001b[0m\u001b[0;34m]\u001b[0m\u001b[0;34m.\u001b[0m\u001b[0mvalues\u001b[0m\u001b[0;34m.\u001b[0m\u001b[0mtolist\u001b[0m\u001b[0;34m(\u001b[0m\u001b[0;34m)\u001b[0m\u001b[0;34m)\u001b[0m\u001b[0;34m\u001b[0m\u001b[0m\n\u001b[0m\u001b[1;32m     13\u001b[0m     \u001b[0;32mprint\u001b[0m\u001b[0;34m(\u001b[0m\u001b[0mi\u001b[0m\u001b[0;34m,\u001b[0m \u001b[0manh\u001b[0m\u001b[0;34m,\u001b[0m \u001b[0mg\u001b[0m\u001b[0;34m,\u001b[0m \u001b[0mc\u001b[0m\u001b[0;34m)\u001b[0m\u001b[0;34m\u001b[0m\u001b[0m\n\u001b[1;32m     14\u001b[0m     \u001b[0;32mprint\u001b[0m \u001b[0;34m\"\\n\\n\"\u001b[0m\u001b[0;34m\u001b[0m\u001b[0m\n",
      "\u001b[0;31mKeyboardInterrupt\u001b[0m: "
     ]
    }
   ],
   "source": [
    "# number of iteration = 20\n",
    "for i in range(20):\n",
    "    print \"Iteration #{0}\".format(str(i))\n",
    "    child_blocks = np.split(np.random.permutation(range(TWINS, N_CHILDREN)), N_BLOCKS)\n",
    "    pbar.setBar(200)\n",
    "    for j in range(200):\n",
    "        pbar.show(j)\n",
    "        child_block = child_blocks[j]\n",
    "        cids, gids = optimize_block(child_block, current_gift_ids=current_gift_ids, gh=g, ch=c)\n",
    "        current_gift_ids[cids] = gids\n",
    "    subm['GiftId'] = GIFT_IDS[current_gift_ids]\n",
    "    anh, g, c = my_avg_normalized_happiness(subm[['ChildId', 'GiftId']].values.tolist())\n",
    "    print(i, anh, g, c)\n",
    "    print \"\\n\\n\""
   ]
  },
  {
   "cell_type": "code",
   "execution_count": null,
   "metadata": {
    "collapsed": true
   },
   "outputs": [],
   "source": [
    "subm[['ChildId', 'GiftId']].to_csv('../src/twtr.csv', index=False)"
   ]
  }
 ],
 "metadata": {
  "kernelspec": {
   "display_name": "Python 2",
   "language": "python",
   "name": "python2"
  }
 },
 "nbformat": 4,
 "nbformat_minor": 2
}
