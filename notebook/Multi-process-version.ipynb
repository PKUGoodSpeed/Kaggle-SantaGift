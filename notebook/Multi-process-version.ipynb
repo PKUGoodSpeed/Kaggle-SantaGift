{
 "cells": [
  {
   "cell_type": "code",
   "execution_count": 1,
   "metadata": {
    "collapsed": true
   },
   "outputs": [],
   "source": [
    "## Math Library\n",
    "import os\n",
    "import pandas as pd\n",
    "import numpy as np\n",
    "import math\n",
    "from scipy.optimize import linear_sum_assignment\n",
    "from collections import defaultdict, Counter\n",
    "\n",
    "## Visualization\n",
    "import matplotlib.pyplot as plt\n",
    "import seaborn as sns\n",
    "\n",
    "## Multiprocess\n",
    "from multiprocessing import Pool\n",
    "import time"
   ]
  },
  {
   "cell_type": "code",
   "execution_count": 2,
   "metadata": {
    "collapsed": true
   },
   "outputs": [],
   "source": [
    "## Define Constants\n",
    "N_CHILDREN = 1000000\n",
    "N_GIFT_TYPE = 1000\n",
    "N_GIFT_QUANTITY = 1000\n",
    "N_GIFT_PREF = 1000\n",
    "N_CHILD_PREF = 100\n",
    "TRIPLETS = 5001\n",
    "TWINS = 45001\n",
    "\n",
    "## BLOCK DIM\n",
    "BLOCK_SIZE = 261\n",
    "N_BLOCKS = int((N_CHILDREN - TWINS + BLOCK_SIZE - 1) / BLOCK_SIZE)\n",
    "\n",
    "## Default data source path\n",
    "INITIAL_SUBMISSION = '../src/twtr.csv'"
   ]
  },
  {
   "cell_type": "code",
   "execution_count": 3,
   "metadata": {},
   "outputs": [
    {
     "name": "stdout",
     "output_type": "stream",
     "text": [
      "INITIALIZE DATA...\n",
      "INITIALIZE GIFT HAPPINESS...\n",
      "INITIALIZE CHILD HAPPINESS...\n",
      "FINISHED\n"
     ]
    }
   ],
   "source": [
    "## Initialize Happiness dictionary\n",
    "print \"INITIALIZE DATA...\"\n",
    "CHILD_PREF = pd.read_csv('../input/child_wishlist_v2.csv', header=None).drop(0, 1).values\n",
    "GIFT_PREF = pd.read_csv('../input/gift_goodkids_v2.csv', header=None).drop(0, 1).values\n",
    "\n",
    "print \"INITIALIZE GIFT HAPPINESS...\"\n",
    "GIFT_HAPPINESS = {}\n",
    "for g in range(N_GIFT_TYPE):\n",
    "    GIFT_HAPPINESS[g] = defaultdict(lambda: -1. / (2 * N_GIFT_PREF))\n",
    "    for i, c in enumerate(GIFT_PREF[g]):\n",
    "        GIFT_HAPPINESS[g][c] = 1. * (N_GIFT_PREF - i) / N_GIFT_PREF\n",
    "\n",
    "print \"INITIALIZE CHILD HAPPINESS...\"\n",
    "CHILD_HAPPINESS = {}\n",
    "for c in range(N_CHILDREN):\n",
    "    CHILD_HAPPINESS[c] = defaultdict(lambda: -1. / (2 * N_CHILD_PREF))\n",
    "    for i, g in enumerate(CHILD_PREF[c]):\n",
    "        CHILD_HAPPINESS[c][g] = 1. * (N_CHILD_PREF - i) / N_CHILD_PREF\n",
    "print \"FINISHED\""
   ]
  },
  {
   "cell_type": "code",
   "execution_count": 4,
   "metadata": {
    "collapsed": true
   },
   "outputs": [],
   "source": [
    "### Function to compute normalized happiness\n",
    "def my_avg_normalized_happiness(pred):\n",
    "    total_child_happiness = 0\n",
    "    total_gift_happiness = np.zeros(1000)\n",
    "    print \"COMPUTE NORMALIZED HAPPINESS...\"\n",
    "    for i, [c,g] in enumerate(pred):\n",
    "        total_child_happiness +=  CHILD_HAPPINESS[c][g]\n",
    "        total_gift_happiness[g] += GIFT_HAPPINESS[g][c]\n",
    "    nch = total_child_happiness / N_CHILDREN\n",
    "    ngh = np.mean(total_gift_happiness) / 1000\n",
    "    print('normalized child happiness', nch)\n",
    "    print('normalized gift happiness', ngh)\n",
    "    return nch**3. + ngh**3., ngh*N_CHILDREN, nch*N_CHILDREN\n",
    "    \n",
    "### Define a new entropy term\n",
    "def entropy(gh, ch, g, c):\n",
    "    return 3.*gh*g*(g + gh) + g**3 + 3.*ch*c*(c + ch) + c**3\n",
    "### Optimize the total entropy\n",
    "def optimize_block(child_block, gift_block, gh, ch):\n",
    "    b_size = len(child_block)\n",
    "    C = np.zeros((b_size, b_size))\n",
    "    for i,c in enumerate(child_block):\n",
    "        for j,g in enumerate(gift_block):\n",
    "            C[i, j] = -1. * entropy(gh, ch, GIFT_HAPPINESS[g][c], CHILD_HAPPINESS[c][g])\n",
    "    row_ind, col_ind = linear_sum_assignment(C)\n",
    "    return child_block[row_ind], gift_block[col_ind]\n",
    "def optimize_wrapper(args):\n",
    "    return optimize_block(*args)"
   ]
  },
  {
   "cell_type": "code",
   "execution_count": 5,
   "metadata": {},
   "outputs": [
    {
     "name": "stdout",
     "output_type": "stream",
     "text": [
      "RESTARTING...\n",
      "COMPUTE NORMALIZED HAPPINESS...\n",
      "('normalized child happiness', 0.9723309299965189)\n",
      "('normalized gift happiness', 0.00037143150000000947)\n",
      "(0.91926833952973452, 371.43150000000946, 972330.9299965189)\n"
     ]
    }
   ],
   "source": [
    "print(\"RESTARTING...\")\n",
    "subm = pd.read_csv(INITIAL_SUBMISSION)\n",
    "initial_anh, g, c = my_avg_normalized_happiness(subm[['ChildId', 'GiftId']].values.tolist())\n",
    "print(initial_anh, g, c)"
   ]
  },
  {
   "cell_type": "code",
   "execution_count": 6,
   "metadata": {},
   "outputs": [
    {
     "data": {
      "text/html": [
       "<div>\n",
       "<table border=\"1\" class=\"dataframe\">\n",
       "  <thead>\n",
       "    <tr style=\"text-align: right;\">\n",
       "      <th></th>\n",
       "      <th>ChildId</th>\n",
       "      <th>GiftId</th>\n",
       "    </tr>\n",
       "  </thead>\n",
       "  <tbody>\n",
       "    <tr>\n",
       "      <th>0</th>\n",
       "      <td>0</td>\n",
       "      <td>200</td>\n",
       "    </tr>\n",
       "    <tr>\n",
       "      <th>1</th>\n",
       "      <td>1</td>\n",
       "      <td>200</td>\n",
       "    </tr>\n",
       "    <tr>\n",
       "      <th>2</th>\n",
       "      <td>2</td>\n",
       "      <td>200</td>\n",
       "    </tr>\n",
       "    <tr>\n",
       "      <th>3</th>\n",
       "      <td>3</td>\n",
       "      <td>245</td>\n",
       "    </tr>\n",
       "    <tr>\n",
       "      <th>4</th>\n",
       "      <td>4</td>\n",
       "      <td>245</td>\n",
       "    </tr>\n",
       "    <tr>\n",
       "      <th>5</th>\n",
       "      <td>5</td>\n",
       "      <td>245</td>\n",
       "    </tr>\n",
       "    <tr>\n",
       "      <th>6</th>\n",
       "      <td>6</td>\n",
       "      <td>791</td>\n",
       "    </tr>\n",
       "  </tbody>\n",
       "</table>\n",
       "</div>"
      ],
      "text/plain": [
       "   ChildId  GiftId\n",
       "0        0     200\n",
       "1        1     200\n",
       "2        2     200\n",
       "3        3     245\n",
       "4        4     245\n",
       "5        5     245\n",
       "6        6     791"
      ]
     },
     "metadata": {},
     "output_type": "display_data"
    }
   ],
   "source": [
    "from IPython.display import display\n",
    "display(subm[:7])"
   ]
  },
  {
   "cell_type": "code",
   "execution_count": 14,
   "metadata": {
    "collapsed": true
   },
   "outputs": [],
   "source": [
    "pool = Pool(8)"
   ]
  },
  {
   "cell_type": "code",
   "execution_count": 15,
   "metadata": {},
   "outputs": [
    {
     "name": "stdout",
     "output_type": "stream",
     "text": [
      "=================  Iteration #0  =================\n",
      "COMPUTE NORMALIZED HAPPINESS...\n",
      "('normalized child happiness', 0.9723319749965194)\n",
      "('normalized gift happiness', 0.00037143150000000947)\n",
      "0.919271303448\n",
      "Time : 38.8884408474  s\n",
      "=================  Iteration #1  =================\n",
      "COMPUTE NORMALIZED HAPPINESS...\n",
      "('normalized child happiness', 0.9723319749965194)\n",
      "('normalized gift happiness', 0.00037143150000000947)\n",
      "0.919271303448\n",
      "Time : 16.3120470047  s\n",
      "=================  Iteration #2  =================\n",
      "COMPUTE NORMALIZED HAPPINESS...\n",
      "('normalized child happiness', 0.9723319749965194)\n",
      "('normalized gift happiness', 0.00037143150000000947)\n",
      "0.919271303448\n",
      "Time : 24.6120669842  s\n",
      "=================  Iteration #3  =================\n",
      "COMPUTE NORMALIZED HAPPINESS...\n",
      "('normalized child happiness', 0.9723319749965192)\n",
      "('normalized gift happiness', 0.00037143150000000947)\n",
      "0.919271303448\n",
      "Time : 23.7990238667  s\n",
      "=================  Iteration #4  =================\n",
      "COMPUTE NORMALIZED HAPPINESS...\n",
      "('normalized child happiness', 0.9723320149965193)\n",
      "('normalized gift happiness', 0.00037143150000000947)\n",
      "0.919271416899\n",
      "Time : 14.4294440746  s\n",
      "=================  Iteration #5  =================\n",
      "COMPUTE NORMALIZED HAPPINESS...\n",
      "('normalized child happiness', 0.9723320149965193)\n",
      "('normalized gift happiness', 0.00037143150000000947)\n",
      "0.919271416899\n",
      "Time : 14.1406559944  s\n",
      "=================  Iteration #6  =================\n",
      "COMPUTE NORMALIZED HAPPINESS...\n",
      "('normalized child happiness', 0.9723320249965193)\n",
      "('normalized gift happiness', 0.00037143150000000947)\n",
      "0.919271445262\n",
      "Time : 22.401307106  s\n",
      "=================  Iteration #7  =================\n",
      "COMPUTE NORMALIZED HAPPINESS...\n",
      "('normalized child happiness', 0.9723320649965193)\n",
      "('normalized gift happiness', 0.00037143150000000947)\n",
      "0.919271558714\n",
      "Time : 14.1050050259  s\n",
      "=================  Iteration #8  =================\n",
      "COMPUTE NORMALIZED HAPPINESS...\n",
      "('normalized child happiness', 0.9723320649965193)\n",
      "('normalized gift happiness', 0.00037143150000000947)\n",
      "0.919271558714\n",
      "Time : 22.6985569  s\n",
      "=================  Iteration #9  =================\n",
      "COMPUTE NORMALIZED HAPPINESS...\n",
      "('normalized child happiness', 0.9723320749965193)\n",
      "('normalized gift happiness', 0.00037143150000000947)\n",
      "0.919271587077\n",
      "Time : 22.0947301388  s\n",
      "=================  Iteration #10  =================\n",
      "COMPUTE NORMALIZED HAPPINESS...\n",
      "('normalized child happiness', 0.9723320749965193)\n",
      "('normalized gift happiness', 0.00037143150000000947)\n",
      "0.919271587077\n",
      "Time : 14.7704091072  s\n",
      "=================  Iteration #11  =================\n",
      "COMPUTE NORMALIZED HAPPINESS...\n",
      "('normalized child happiness', 0.9723321949965194)\n",
      "('normalized gift happiness', 0.00037143150000000947)\n",
      "0.919271927432\n",
      "Time : 14.5555279255  s\n",
      "=================  Iteration #12  =================\n",
      "COMPUTE NORMALIZED HAPPINESS...\n",
      "('normalized child happiness', 0.9723322449965194)\n",
      "('normalized gift happiness', 0.00037143150000000947)\n",
      "0.919272069246\n",
      "Time : 22.908905983  s\n",
      "=================  Iteration #13  =================\n",
      "COMPUTE NORMALIZED HAPPINESS...\n",
      "('normalized child happiness', 0.9723322449965194)\n",
      "('normalized gift happiness', 0.00037143150000000947)\n",
      "0.919272069246\n",
      "Time : 14.2260248661  s\n",
      "=================  Iteration #14  =================\n",
      "COMPUTE NORMALIZED HAPPINESS...\n",
      "('normalized child happiness', 0.9723322449965194)\n",
      "('normalized gift happiness', 0.00037143150000000947)\n",
      "0.919272069246\n",
      "Time : 22.4588911533  s\n",
      "0.00402498245239\n"
     ]
    }
   ],
   "source": [
    "t1 = time.time()\n",
    "gift_idx = subm.GiftId.values\n",
    "for i in range(20):\n",
    "    print \"=================  Iteration #{0}  =================\".format(str(i))\n",
    "    bsize = 100\n",
    "    perm = np.random.permutation(range(TWINS, N_CHILDREN))\n",
    "    child_blocks = [perm[j*bsize: (j+1)*bsize] for j in range(500)]\n",
    "    args = [(ch_blk, gift_idx[ch_blk], g, c) for ch_blk in child_blocks]\n",
    "    ans = pool.map(optimize_wrapper, args)\n",
    "    for cidx, gidx in ans:\n",
    "        gift_idx[cidx] = gidx\n",
    "    subm['GiftId'] = gift_idx\n",
    "    anh, g, c = my_avg_normalized_happiness(subm[['ChildId', 'GiftId']].values.tolist())\n",
    "    print anh\n",
    "    print \"Time :\", time.time() - t1, \" s\"\n",
    "    t1 = time.time()\n",
    "t2 = time.time()\n",
    "print t2 - t1"
   ]
  },
  {
   "cell_type": "code",
   "execution_count": 13,
   "metadata": {
    "collapsed": true
   },
   "outputs": [],
   "source": [
    "pool.close()\n",
    "pool.join()"
   ]
  },
  {
   "cell_type": "code",
   "execution_count": 8,
   "metadata": {},
   "outputs": [
    {
     "name": "stdout",
     "output_type": "stream",
     "text": [
      "=================  Iteration #0  =================\n",
      "10.6640958786\n"
     ]
    }
   ],
   "source": [
    "t1 = time.time()\n",
    "gift_idx = subm.GiftId.values\n",
    "for i in range(1):\n",
    "    print \"=================  Iteration #{0}  =================\".format(str(i))\n",
    "    bsize = 100\n",
    "    perm = np.random.permutation(range(TWINS, N_CHILDREN))\n",
    "    child_blocks = [perm[j*bsize: (j+1)*bsize] for j in range(500)]\n",
    "    ans = []\n",
    "    for j in range(500):\n",
    "        child_block = child_blocks[i]\n",
    "        gift_block = gift_idx[child_block]\n",
    "        cids, gids = optimize_block(child_block , gift_block, g, c)\n",
    "        ans.append((cids, gids))\n",
    "t2 = time.time()\n",
    "print t2 - t1"
   ]
  },
  {
   "cell_type": "code",
   "execution_count": 9,
   "metadata": {},
   "outputs": [
    {
     "name": "stdout",
     "output_type": "stream",
     "text": [
      "10.6640958786\n"
     ]
    }
   ],
   "source": [
    "print t2 - t1"
   ]
  },
  {
   "cell_type": "code",
   "execution_count": null,
   "metadata": {
    "collapsed": true
   },
   "outputs": [],
   "source": []
  }
 ],
 "metadata": {
  "kernelspec": {
   "display_name": "Python 2",
   "language": "python",
   "name": "python2"
  },
  "language_info": {
   "codemirror_mode": {
    "name": "ipython",
    "version": 2
   },
   "file_extension": ".py",
   "mimetype": "text/x-python",
   "name": "python",
   "nbconvert_exporter": "python",
   "pygments_lexer": "ipython2",
   "version": "2.7.13"
  }
 },
 "nbformat": 4,
 "nbformat_minor": 2
}
